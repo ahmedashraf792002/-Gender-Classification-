{
 "cells": [
  {
   "cell_type": "code",
   "execution_count": 1,
   "id": "76528a59",
   "metadata": {
    "_cell_guid": "b1076dfc-b9ad-4769-8c92-a6c4dae69d19",
    "_uuid": "8f2839f25d086af736a60e9eeb907d3b93b6e0e5",
    "execution": {
     "iopub.execute_input": "2022-11-26T18:09:16.071695Z",
     "iopub.status.busy": "2022-11-26T18:09:16.071205Z",
     "iopub.status.idle": "2022-11-26T18:09:16.091798Z",
     "shell.execute_reply": "2022-11-26T18:09:16.090601Z"
    },
    "papermill": {
     "duration": 0.038916,
     "end_time": "2022-11-26T18:09:16.095203",
     "exception": false,
     "start_time": "2022-11-26T18:09:16.056287",
     "status": "completed"
    },
    "tags": []
   },
   "outputs": [
    {
     "name": "stdout",
     "output_type": "stream",
     "text": [
      "/kaggle/input/gender-classification-dataset/gender_classification_v7.csv\n"
     ]
    }
   ],
   "source": [
    "# This Python 3 environment comes with many helpful analytics libraries installed\n",
    "# It is defined by the kaggle/python Docker image: https://github.com/kaggle/docker-python\n",
    "# For example, here's several helpful packages to load\n",
    "\n",
    "import numpy as np # linear algebra\n",
    "import pandas as pd # data processing, CSV file I/O (e.g. pd.read_csv)\n",
    "\n",
    "# Input data files are available in the read-only \"../input/\" directory\n",
    "# For example, running this (by clicking run or pressing Shift+Enter) will list all files under the input directory\n",
    "\n",
    "import os\n",
    "for dirname, _, filenames in os.walk('/kaggle/input'):\n",
    "    for filename in filenames:\n",
    "        print(os.path.join(dirname, filename))\n",
    "\n",
    "# You can write up to 20GB to the current directory (/kaggle/working/) that gets preserved as output when you create a version using \"Save & Run All\" \n",
    "# You can also write temporary files to /kaggle/temp/, but they won't be saved outside of the current session"
   ]
  },
  {
   "cell_type": "markdown",
   "id": "fe6b4ebb",
   "metadata": {
    "papermill": {
     "duration": 0.014182,
     "end_time": "2022-11-26T18:09:16.122353",
     "exception": false,
     "start_time": "2022-11-26T18:09:16.108171",
     "status": "completed"
    },
    "tags": []
   },
   "source": [
    "# Import Libraries"
   ]
  },
  {
   "cell_type": "code",
   "execution_count": 2,
   "id": "f2114caa",
   "metadata": {
    "execution": {
     "iopub.execute_input": "2022-11-26T18:09:16.149531Z",
     "iopub.status.busy": "2022-11-26T18:09:16.149144Z",
     "iopub.status.idle": "2022-11-26T18:09:17.521776Z",
     "shell.execute_reply": "2022-11-26T18:09:17.520376Z"
    },
    "papermill": {
     "duration": 1.390157,
     "end_time": "2022-11-26T18:09:17.524685",
     "exception": false,
     "start_time": "2022-11-26T18:09:16.134528",
     "status": "completed"
    },
    "tags": []
   },
   "outputs": [],
   "source": [
    "\n",
    "import pandas as pd\n",
    "import seaborn as sns\n",
    "from sklearn.model_selection import train_test_split\n",
    "from sklearn.linear_model import LogisticRegression\n",
    "from sklearn.ensemble import RandomForestClassifier\n",
    "import matplotlib.pyplot as plt\n",
    "import numpy as np\n",
    "from sklearn.metrics import confusion_matrix\n",
    "from sklearn.metrics import accuracy_score\n",
    "from sklearn.metrics import f1_score\n",
    "from sklearn.metrics import precision_score\n",
    "from sklearn.preprocessing import LabelEncoder\n",
    "from sklearn.preprocessing import MinMaxScaler"
   ]
  },
  {
   "cell_type": "markdown",
   "id": "49425e99",
   "metadata": {
    "papermill": {
     "duration": 0.012073,
     "end_time": "2022-11-26T18:09:17.549565",
     "exception": false,
     "start_time": "2022-11-26T18:09:17.537492",
     "status": "completed"
    },
    "tags": []
   },
   "source": [
    "# read data"
   ]
  },
  {
   "cell_type": "code",
   "execution_count": 3,
   "id": "255bef2e",
   "metadata": {
    "execution": {
     "iopub.execute_input": "2022-11-26T18:09:17.578321Z",
     "iopub.status.busy": "2022-11-26T18:09:17.577673Z",
     "iopub.status.idle": "2022-11-26T18:09:17.603541Z",
     "shell.execute_reply": "2022-11-26T18:09:17.602640Z"
    },
    "papermill": {
     "duration": 0.043165,
     "end_time": "2022-11-26T18:09:17.606064",
     "exception": false,
     "start_time": "2022-11-26T18:09:17.562899",
     "status": "completed"
    },
    "tags": []
   },
   "outputs": [],
   "source": [
    "\n",
    "data=pd.read_csv('/kaggle/input/gender-classification-dataset/gender_classification_v7.csv')"
   ]
  },
  {
   "cell_type": "markdown",
   "id": "bed769c9",
   "metadata": {
    "papermill": {
     "duration": 0.013043,
     "end_time": "2022-11-26T18:09:17.633137",
     "exception": false,
     "start_time": "2022-11-26T18:09:17.620094",
     "status": "completed"
    },
    "tags": []
   },
   "source": [
    "# print 5 frist data"
   ]
  },
  {
   "cell_type": "code",
   "execution_count": 4,
   "id": "1ce0490a",
   "metadata": {
    "execution": {
     "iopub.execute_input": "2022-11-26T18:09:17.661694Z",
     "iopub.status.busy": "2022-11-26T18:09:17.661046Z",
     "iopub.status.idle": "2022-11-26T18:09:17.674850Z",
     "shell.execute_reply": "2022-11-26T18:09:17.673515Z"
    },
    "papermill": {
     "duration": 0.030767,
     "end_time": "2022-11-26T18:09:17.677463",
     "exception": false,
     "start_time": "2022-11-26T18:09:17.646696",
     "status": "completed"
    },
    "tags": []
   },
   "outputs": [
    {
     "name": "stdout",
     "output_type": "stream",
     "text": [
      "   long_hair  forehead_width_cm  forehead_height_cm  nose_wide  nose_long  \\\n",
      "0          1               11.8                 6.1          1          0   \n",
      "1          0               14.0                 5.4          0          0   \n",
      "2          0               11.8                 6.3          1          1   \n",
      "3          0               14.4                 6.1          0          1   \n",
      "4          1               13.5                 5.9          0          0   \n",
      "\n",
      "   lips_thin  distance_nose_to_lip_long  gender  \n",
      "0          1                          1    Male  \n",
      "1          1                          0  Female  \n",
      "2          1                          1    Male  \n",
      "3          1                          1    Male  \n",
      "4          0                          0  Female  \n"
     ]
    }
   ],
   "source": [
    "\n",
    "print(data.head())"
   ]
  },
  {
   "cell_type": "markdown",
   "id": "6593ffa9",
   "metadata": {
    "papermill": {
     "duration": 0.011885,
     "end_time": "2022-11-26T18:09:17.701821",
     "exception": false,
     "start_time": "2022-11-26T18:09:17.689936",
     "status": "completed"
    },
    "tags": []
   },
   "source": [
    "# print data columns"
   ]
  },
  {
   "cell_type": "code",
   "execution_count": 5,
   "id": "7e765e5c",
   "metadata": {
    "execution": {
     "iopub.execute_input": "2022-11-26T18:09:17.730198Z",
     "iopub.status.busy": "2022-11-26T18:09:17.729760Z",
     "iopub.status.idle": "2022-11-26T18:09:17.739535Z",
     "shell.execute_reply": "2022-11-26T18:09:17.737225Z"
    },
    "papermill": {
     "duration": 0.028052,
     "end_time": "2022-11-26T18:09:17.743525",
     "exception": false,
     "start_time": "2022-11-26T18:09:17.715473",
     "status": "completed"
    },
    "tags": []
   },
   "outputs": [
    {
     "name": "stdout",
     "output_type": "stream",
     "text": [
      "column 1 is :  long_hair\n",
      "column 2 is :  forehead_width_cm\n",
      "column 3 is :  forehead_height_cm\n",
      "column 4 is :  nose_wide\n",
      "column 5 is :  nose_long\n",
      "column 6 is :  lips_thin\n",
      "column 7 is :  distance_nose_to_lip_long\n",
      "column 8 is :  gender\n"
     ]
    }
   ],
   "source": [
    "\n",
    "x=1\n",
    "for col in data.columns:\n",
    "    print(f'column {x} is : ',col)\n",
    "    x+=1"
   ]
  },
  {
   "cell_type": "markdown",
   "id": "300fdd5f",
   "metadata": {
    "papermill": {
     "duration": 0.014529,
     "end_time": "2022-11-26T18:09:17.772060",
     "exception": false,
     "start_time": "2022-11-26T18:09:17.757531",
     "status": "completed"
    },
    "tags": []
   },
   "source": [
    "# data corr"
   ]
  },
  {
   "cell_type": "code",
   "execution_count": 6,
   "id": "628afdbe",
   "metadata": {
    "execution": {
     "iopub.execute_input": "2022-11-26T18:09:17.804870Z",
     "iopub.status.busy": "2022-11-26T18:09:17.804019Z",
     "iopub.status.idle": "2022-11-26T18:09:18.230046Z",
     "shell.execute_reply": "2022-11-26T18:09:18.229209Z"
    },
    "papermill": {
     "duration": 0.444052,
     "end_time": "2022-11-26T18:09:18.233156",
     "exception": false,
     "start_time": "2022-11-26T18:09:17.789104",
     "status": "completed"
    },
    "tags": []
   },
   "outputs": [
    {
     "name": "stdout",
     "output_type": "stream",
     "text": [
      "                           long_hair  forehead_width_cm  forehead_height_cm  \\\n",
      "long_hair                   1.000000          -0.006530           -0.017233   \n",
      "forehead_width_cm          -0.006530           1.000000            0.088596   \n",
      "forehead_height_cm         -0.017233           0.088596            1.000000   \n",
      "nose_wide                   0.001216           0.251648            0.211655   \n",
      "nose_long                   0.014432           0.257368            0.194120   \n",
      "lips_thin                   0.011287           0.258564            0.205441   \n",
      "distance_nose_to_lip_long  -0.025794           0.251328            0.215292   \n",
      "\n",
      "                           nose_wide  nose_long  lips_thin  \\\n",
      "long_hair                   0.001216   0.014432   0.011287   \n",
      "forehead_width_cm           0.251648   0.257368   0.258564   \n",
      "forehead_height_cm          0.211655   0.194120   0.205441   \n",
      "nose_wide                   1.000000   0.565192   0.557615   \n",
      "nose_long                   0.565192   1.000000   0.561229   \n",
      "lips_thin                   0.557615   0.561229   1.000000   \n",
      "distance_nose_to_lip_long   0.569303   0.559794   0.565312   \n",
      "\n",
      "                           distance_nose_to_lip_long  \n",
      "long_hair                                  -0.025794  \n",
      "forehead_width_cm                           0.251328  \n",
      "forehead_height_cm                          0.215292  \n",
      "nose_wide                                   0.569303  \n",
      "nose_long                                   0.559794  \n",
      "lips_thin                                   0.565312  \n",
      "distance_nose_to_lip_long                   1.000000  \n"
     ]
    },
    {
     "data": {
      "text/plain": [
       "<AxesSubplot:>"
      ]
     },
     "execution_count": 6,
     "metadata": {},
     "output_type": "execute_result"
    },
    {
     "data": {
      "image/png": "[encoded data removed]",
      "text/plain": [
       "<Figure size 432x288 with 2 Axes>"
      ]
     },
     "metadata": {
      "needs_background": "light"
     },
     "output_type": "display_data"
    }
   ],
   "source": [
    "\n",
    "print(data.corr()) \n",
    "sns.heatmap(data.corr())"
   ]
  },
  {
   "cell_type": "markdown",
   "id": "5c13b550",
   "metadata": {
    "papermill": {
     "duration": 0.020255,
     "end_time": "2022-11-26T18:09:18.273790",
     "exception": false,
     "start_time": "2022-11-26T18:09:18.253535",
     "status": "completed"
    },
    "tags": []
   },
   "source": [
    "# data info"
   ]
  },
  {
   "cell_type": "code",
   "execution_count": 7,
   "id": "0cd917f0",
   "metadata": {
    "execution": {
     "iopub.execute_input": "2022-11-26T18:09:18.304402Z",
     "iopub.status.busy": "2022-11-26T18:09:18.303175Z",
     "iopub.status.idle": "2022-11-26T18:09:18.327405Z",
     "shell.execute_reply": "2022-11-26T18:09:18.325759Z"
    },
    "papermill": {
     "duration": 0.041875,
     "end_time": "2022-11-26T18:09:18.330097",
     "exception": false,
     "start_time": "2022-11-26T18:09:18.288222",
     "status": "completed"
    },
    "tags": []
   },
   "outputs": [
    {
     "name": "stdout",
     "output_type": "stream",
     "text": [
      "<class 'pandas.core.frame.DataFrame'>\n",
      "RangeIndex: 5001 entries, 0 to 5000\n",
      "Data columns (total 8 columns):\n",
      " #   Column                     Non-Null Count  Dtype  \n",
      "---  ------                     --------------  -----  \n",
      " 0   long_hair                  5001 non-null   int64  \n",
      " 1   forehead_width_cm          5001 non-null   float64\n",
      " 2   forehead_height_cm         5001 non-null   float64\n",
      " 3   nose_wide                  5001 non-null   int64  \n",
      " 4   nose_long                  5001 non-null   int64  \n",
      " 5   lips_thin                  5001 non-null   int64  \n",
      " 6   distance_nose_to_lip_long  5001 non-null   int64  \n",
      " 7   gender                     5001 non-null   object \n",
      "dtypes: float64(2), int64(5), object(1)\n",
      "memory usage: 312.7+ KB\n",
      "None\n"
     ]
    }
   ],
   "source": [
    "\n",
    "print(data.info())  "
   ]
  },
  {
   "cell_type": "markdown",
   "id": "687f0ef1",
   "metadata": {
    "papermill": {
     "duration": 0.012576,
     "end_time": "2022-11-26T18:09:18.357591",
     "exception": false,
     "start_time": "2022-11-26T18:09:18.345015",
     "status": "completed"
    },
    "tags": []
   },
   "source": [
    "# show data contain null data"
   ]
  },
  {
   "cell_type": "code",
   "execution_count": 8,
   "id": "6e72b3df",
   "metadata": {
    "execution": {
     "iopub.execute_input": "2022-11-26T18:09:18.386014Z",
     "iopub.status.busy": "2022-11-26T18:09:18.385405Z",
     "iopub.status.idle": "2022-11-26T18:09:18.394103Z",
     "shell.execute_reply": "2022-11-26T18:09:18.392799Z"
    },
    "papermill": {
     "duration": 0.025892,
     "end_time": "2022-11-26T18:09:18.396495",
     "exception": false,
     "start_time": "2022-11-26T18:09:18.370603",
     "status": "completed"
    },
    "tags": []
   },
   "outputs": [
    {
     "name": "stdout",
     "output_type": "stream",
     "text": [
      "long_hair                    0\n",
      "forehead_width_cm            0\n",
      "forehead_height_cm           0\n",
      "nose_wide                    0\n",
      "nose_long                    0\n",
      "lips_thin                    0\n",
      "distance_nose_to_lip_long    0\n",
      "gender                       0\n",
      "dtype: int64\n"
     ]
    }
   ],
   "source": [
    "\n",
    "print(data.isnull().sum())"
   ]
  },
  {
   "cell_type": "markdown",
   "id": "7ffa7e9f",
   "metadata": {
    "papermill": {
     "duration": 0.012958,
     "end_time": "2022-11-26T18:09:18.423167",
     "exception": false,
     "start_time": "2022-11-26T18:09:18.410209",
     "status": "completed"
    },
    "tags": []
   },
   "source": [
    "# show data contain dublicate data"
   ]
  },
  {
   "cell_type": "code",
   "execution_count": 9,
   "id": "ac449c70",
   "metadata": {
    "execution": {
     "iopub.execute_input": "2022-11-26T18:09:18.451522Z",
     "iopub.status.busy": "2022-11-26T18:09:18.450818Z",
     "iopub.status.idle": "2022-11-26T18:09:18.461101Z",
     "shell.execute_reply": "2022-11-26T18:09:18.459709Z"
    },
    "papermill": {
     "duration": 0.027552,
     "end_time": "2022-11-26T18:09:18.463772",
     "exception": false,
     "start_time": "2022-11-26T18:09:18.436220",
     "status": "completed"
    },
    "tags": []
   },
   "outputs": [
    {
     "name": "stdout",
     "output_type": "stream",
     "text": [
      "1768\n"
     ]
    }
   ],
   "source": [
    "\n",
    "print(data.duplicated().sum())"
   ]
  },
  {
   "cell_type": "markdown",
   "id": "aa1804a4",
   "metadata": {
    "papermill": {
     "duration": 0.012793,
     "end_time": "2022-11-26T18:09:18.489642",
     "exception": false,
     "start_time": "2022-11-26T18:09:18.476849",
     "status": "completed"
    },
    "tags": []
   },
   "source": [
    "# data describe"
   ]
  },
  {
   "cell_type": "code",
   "execution_count": 10,
   "id": "cbfbed52",
   "metadata": {
    "execution": {
     "iopub.execute_input": "2022-11-26T18:09:18.518088Z",
     "iopub.status.busy": "2022-11-26T18:09:18.517229Z",
     "iopub.status.idle": "2022-11-26T18:09:18.549153Z",
     "shell.execute_reply": "2022-11-26T18:09:18.547287Z"
    },
    "papermill": {
     "duration": 0.049653,
     "end_time": "2022-11-26T18:09:18.552413",
     "exception": false,
     "start_time": "2022-11-26T18:09:18.502760",
     "status": "completed"
    },
    "tags": []
   },
   "outputs": [
    {
     "name": "stdout",
     "output_type": "stream",
     "text": [
      "         long_hair  forehead_width_cm  forehead_height_cm    nose_wide  \\\n",
      "count  5001.000000        5001.000000         5001.000000  5001.000000   \n",
      "mean      0.869626          13.181484            5.946311     0.493901   \n",
      "std       0.336748           1.107128            0.541268     0.500013   \n",
      "min       0.000000          11.400000            5.100000     0.000000   \n",
      "25%       1.000000          12.200000            5.500000     0.000000   \n",
      "50%       1.000000          13.100000            5.900000     0.000000   \n",
      "75%       1.000000          14.000000            6.400000     1.000000   \n",
      "max       1.000000          15.500000            7.100000     1.000000   \n",
      "\n",
      "         nose_long    lips_thin  distance_nose_to_lip_long  \n",
      "count  5001.000000  5001.000000                5001.000000  \n",
      "mean      0.507898     0.493101                   0.498900  \n",
      "std       0.499988     0.500002                   0.500049  \n",
      "min       0.000000     0.000000                   0.000000  \n",
      "25%       0.000000     0.000000                   0.000000  \n",
      "50%       1.000000     0.000000                   0.000000  \n",
      "75%       1.000000     1.000000                   1.000000  \n",
      "max       1.000000     1.000000                   1.000000  \n"
     ]
    }
   ],
   "source": [
    "\n",
    "print(data.describe())"
   ]
  },
  {
   "cell_type": "markdown",
   "id": "6f7874a8",
   "metadata": {
    "papermill": {
     "duration": 0.013283,
     "end_time": "2022-11-26T18:09:18.579307",
     "exception": false,
     "start_time": "2022-11-26T18:09:18.566024",
     "status": "completed"
    },
    "tags": []
   },
   "source": [
    "# show input X and output y"
   ]
  },
  {
   "cell_type": "code",
   "execution_count": 11,
   "id": "4cec3916",
   "metadata": {
    "execution": {
     "iopub.execute_input": "2022-11-26T18:09:18.608309Z",
     "iopub.status.busy": "2022-11-26T18:09:18.607693Z",
     "iopub.status.idle": "2022-11-26T18:09:18.615468Z",
     "shell.execute_reply": "2022-11-26T18:09:18.614055Z"
    },
    "papermill": {
     "duration": 0.025621,
     "end_time": "2022-11-26T18:09:18.618537",
     "exception": false,
     "start_time": "2022-11-26T18:09:18.592916",
     "status": "completed"
    },
    "tags": []
   },
   "outputs": [
    {
     "name": "stdout",
     "output_type": "stream",
     "text": [
      "8\n",
      "(5001, 7)\n",
      "(5001, 1)\n"
     ]
    }
   ],
   "source": [
    "\n",
    "col=data.shape[1]\n",
    "X=data.iloc[:,0:col-1]\n",
    "y=data.iloc[:,col-1:col]\n",
    "print(col)\n",
    "print(X.shape)\n",
    "print(y.shape)\n",
    "X_bar=X.keys()"
   ]
  },
  {
   "cell_type": "markdown",
   "id": "9997ba2c",
   "metadata": {
    "papermill": {
     "duration": 0.012908,
     "end_time": "2022-11-26T18:09:18.645142",
     "exception": false,
     "start_time": "2022-11-26T18:09:18.632234",
     "status": "completed"
    },
    "tags": []
   },
   "source": [
    "# transformation output y string"
   ]
  },
  {
   "cell_type": "code",
   "execution_count": 12,
   "id": "4282284e",
   "metadata": {
    "execution": {
     "iopub.execute_input": "2022-11-26T18:09:18.673635Z",
     "iopub.status.busy": "2022-11-26T18:09:18.672971Z",
     "iopub.status.idle": "2022-11-26T18:09:18.682410Z",
     "shell.execute_reply": "2022-11-26T18:09:18.681037Z"
    },
    "papermill": {
     "duration": 0.026685,
     "end_time": "2022-11-26T18:09:18.685104",
     "exception": false,
     "start_time": "2022-11-26T18:09:18.658419",
     "status": "completed"
    },
    "tags": []
   },
   "outputs": [
    {
     "name": "stderr",
     "output_type": "stream",
     "text": [
      "/opt/conda/lib/python3.7/site-packages/sklearn/preprocessing/_label.py:115: DataConversionWarning: A column-vector y was passed when a 1d array was expected. Please change the shape of y to (n_samples, ), for example using ravel().\n",
      "  y = column_or_1d(y, warn=True)\n"
     ]
    }
   ],
   "source": [
    "\n",
    "label=LabelEncoder()\n",
    "y=label.fit_transform(y)"
   ]
  },
  {
   "cell_type": "markdown",
   "id": "ccb3bbb6",
   "metadata": {
    "papermill": {
     "duration": 0.013866,
     "end_time": "2022-11-26T18:09:18.712639",
     "exception": false,
     "start_time": "2022-11-26T18:09:18.698773",
     "status": "completed"
    },
    "tags": []
   },
   "source": [
    "# MinMaxScaler for Data"
   ]
  },
  {
   "cell_type": "code",
   "execution_count": 13,
   "id": "70d0c7ee",
   "metadata": {
    "execution": {
     "iopub.execute_input": "2022-11-26T18:09:18.741984Z",
     "iopub.status.busy": "2022-11-26T18:09:18.741047Z",
     "iopub.status.idle": "2022-11-26T18:09:18.750707Z",
     "shell.execute_reply": "2022-11-26T18:09:18.749835Z"
    },
    "papermill": {
     "duration": 0.026755,
     "end_time": "2022-11-26T18:09:18.753342",
     "exception": false,
     "start_time": "2022-11-26T18:09:18.726587",
     "status": "completed"
    },
    "tags": []
   },
   "outputs": [],
   "source": [
    "\n",
    "scaler = MinMaxScaler(copy=True, feature_range=(0, 1))\n",
    "X = scaler.fit_transform(X)"
   ]
  },
  {
   "cell_type": "markdown",
   "id": "d72fce80",
   "metadata": {
    "papermill": {
     "duration": 0.01333,
     "end_time": "2022-11-26T18:09:18.780324",
     "exception": false,
     "start_time": "2022-11-26T18:09:18.766994",
     "status": "completed"
    },
    "tags": []
   },
   "source": [
    "# showing data"
   ]
  },
  {
   "cell_type": "code",
   "execution_count": 14,
   "id": "d0e5f5e8",
   "metadata": {
    "execution": {
     "iopub.execute_input": "2022-11-26T18:09:18.809295Z",
     "iopub.status.busy": "2022-11-26T18:09:18.808143Z",
     "iopub.status.idle": "2022-11-26T18:09:18.815594Z",
     "shell.execute_reply": "2022-11-26T18:09:18.814390Z"
    },
    "papermill": {
     "duration": 0.024478,
     "end_time": "2022-11-26T18:09:18.818020",
     "exception": false,
     "start_time": "2022-11-26T18:09:18.793542",
     "status": "completed"
    },
    "tags": []
   },
   "outputs": [
    {
     "name": "stdout",
     "output_type": "stream",
     "text": [
      "X \n",
      " [[1.         0.09756098 0.5        1.         0.         1.\n",
      "  1.        ]\n",
      " [0.         0.63414634 0.15       0.         0.         1.\n",
      "  0.        ]\n",
      " [0.         0.09756098 0.6        1.         1.         1.\n",
      "  1.        ]\n",
      " [0.         0.73170732 0.5        0.         1.         1.\n",
      "  1.        ]\n",
      " [1.         0.51219512 0.4        0.         0.         0.\n",
      "  0.        ]\n",
      " [1.         0.3902439  0.85       1.         1.         1.\n",
      "  1.        ]\n",
      " [1.         0.95121951 0.55       1.         1.         1.\n",
      "  0.        ]\n",
      " [0.         0.3902439  0.05       0.         0.         0.\n",
      "  0.        ]\n",
      " [1.         0.12195122 0.15       1.         0.         1.\n",
      "  1.        ]\n",
      " [1.         0.17073171 0.15       0.         0.         0.\n",
      "  0.        ]]\n",
      "y \n",
      " [1 0 1 1 0 1 1 0 0 0]\n"
     ]
    }
   ],
   "source": [
    "\n",
    "print('X \\n' , X[:10])\n",
    "print('y \\n' , y[:10])"
   ]
  },
  {
   "cell_type": "markdown",
   "id": "90d5bc1e",
   "metadata": {
    "papermill": {
     "duration": 0.012887,
     "end_time": "2022-11-26T18:09:18.844349",
     "exception": false,
     "start_time": "2022-11-26T18:09:18.831462",
     "status": "completed"
    },
    "tags": []
   },
   "source": [
    "# data spliting"
   ]
  },
  {
   "cell_type": "code",
   "execution_count": 15,
   "id": "e8dd3f32",
   "metadata": {
    "execution": {
     "iopub.execute_input": "2022-11-26T18:09:18.874258Z",
     "iopub.status.busy": "2022-11-26T18:09:18.873308Z",
     "iopub.status.idle": "2022-11-26T18:09:18.882480Z",
     "shell.execute_reply": "2022-11-26T18:09:18.881049Z"
    },
    "papermill": {
     "duration": 0.027224,
     "end_time": "2022-11-26T18:09:18.885437",
     "exception": false,
     "start_time": "2022-11-26T18:09:18.858213",
     "status": "completed"
    },
    "tags": []
   },
   "outputs": [
    {
     "name": "stdout",
     "output_type": "stream",
     "text": [
      "X_train shape is  (3350, 7)\n",
      "X_test shape is  (1651, 7)\n",
      "y_train shape is  (3350,)\n",
      "y_test shape is  (1651,)\n"
     ]
    }
   ],
   "source": [
    "\n",
    "X_train, X_test, y_train, y_test = train_test_split(X, y, test_size=0.33, random_state=44, shuffle =True)\n",
    "print('X_train shape is ' , X_train.shape)\n",
    "print('X_test shape is ' , X_test.shape)\n",
    "print('y_train shape is ' , y_train.shape)\n",
    "print('y_test shape is ' , y_test.shape)"
   ]
  },
  {
   "cell_type": "markdown",
   "id": "b366c93d",
   "metadata": {
    "papermill": {
     "duration": 0.013099,
     "end_time": "2022-11-26T18:09:18.912308",
     "exception": false,
     "start_time": "2022-11-26T18:09:18.899209",
     "status": "completed"
    },
    "tags": []
   },
   "source": [
    "# Applying LogisticRegression Model "
   ]
  },
  {
   "cell_type": "code",
   "execution_count": 16,
   "id": "fad272a3",
   "metadata": {
    "execution": {
     "iopub.execute_input": "2022-11-26T18:09:18.941773Z",
     "iopub.status.busy": "2022-11-26T18:09:18.941063Z",
     "iopub.status.idle": "2022-11-26T18:09:18.964139Z",
     "shell.execute_reply": "2022-11-26T18:09:18.963052Z"
    },
    "papermill": {
     "duration": 0.040917,
     "end_time": "2022-11-26T18:09:18.966588",
     "exception": false,
     "start_time": "2022-11-26T18:09:18.925671",
     "status": "completed"
    },
    "tags": []
   },
   "outputs": [
    {
     "data": {
      "text/plain": [
       "LogisticRegression(C=1, random_state=33, solver='sag')"
      ]
     },
     "execution_count": 16,
     "metadata": {},
     "output_type": "execute_result"
    }
   ],
   "source": [
    "\n",
    "LogisticRegressionModel = LogisticRegression(penalty='l2',solver='sag',C=1,random_state=33)\n",
    "LogisticRegressionModel.fit(X_train, y_train)"
   ]
  },
  {
   "cell_type": "markdown",
   "id": "20fd55a9",
   "metadata": {
    "papermill": {
     "duration": 0.013145,
     "end_time": "2022-11-26T18:09:18.993165",
     "exception": false,
     "start_time": "2022-11-26T18:09:18.980020",
     "status": "completed"
    },
    "tags": []
   },
   "source": [
    "# Calculating Details"
   ]
  },
  {
   "cell_type": "code",
   "execution_count": 17,
   "id": "cc697fe8",
   "metadata": {
    "execution": {
     "iopub.execute_input": "2022-11-26T18:09:19.022869Z",
     "iopub.status.busy": "2022-11-26T18:09:19.021783Z",
     "iopub.status.idle": "2022-11-26T18:09:19.041664Z",
     "shell.execute_reply": "2022-11-26T18:09:19.039837Z"
    },
    "papermill": {
     "duration": 0.040353,
     "end_time": "2022-11-26T18:09:19.046899",
     "exception": false,
     "start_time": "2022-11-26T18:09:19.006546",
     "status": "completed"
    },
    "tags": []
   },
   "outputs": [
    {
     "name": "stdout",
     "output_type": "stream",
     "text": [
      "LogisticRegressionModel Train Score is :  0.9686567164179104\n",
      "LogisticRegressionModel Test Score is :  0.9678982434887947\n",
      "LogisticRegressionModel Classes are :  [0 1]\n",
      "LogisticRegressionModel No. of iteratios is :  [21]\n"
     ]
    }
   ],
   "source": [
    "\n",
    "print('LogisticRegressionModel Train Score is : ' , LogisticRegressionModel.score(X_train, y_train))\n",
    "print('LogisticRegressionModel Test Score is : ' , LogisticRegressionModel.score(X_test, y_test))\n",
    "print('LogisticRegressionModel Classes are : ' , LogisticRegressionModel.classes_)\n",
    "print('LogisticRegressionModel No. of iteratios is : ' , LogisticRegressionModel.n_iter_)"
   ]
  },
  {
   "cell_type": "markdown",
   "id": "6a330d55",
   "metadata": {
    "papermill": {
     "duration": 0.036052,
     "end_time": "2022-11-26T18:09:19.119050",
     "exception": false,
     "start_time": "2022-11-26T18:09:19.082998",
     "status": "completed"
    },
    "tags": []
   },
   "source": [
    "# Calculating Prediction"
   ]
  },
  {
   "cell_type": "code",
   "execution_count": 18,
   "id": "631cb938",
   "metadata": {
    "execution": {
     "iopub.execute_input": "2022-11-26T18:09:19.168356Z",
     "iopub.status.busy": "2022-11-26T18:09:19.167816Z",
     "iopub.status.idle": "2022-11-26T18:09:19.182287Z",
     "shell.execute_reply": "2022-11-26T18:09:19.181056Z"
    },
    "papermill": {
     "duration": 0.033458,
     "end_time": "2022-11-26T18:09:19.186608",
     "exception": false,
     "start_time": "2022-11-26T18:09:19.153150",
     "status": "completed"
    },
    "tags": []
   },
   "outputs": [
    {
     "name": "stdout",
     "output_type": "stream",
     "text": [
      "Predicted Value for LogisticRegressionModel is :  [1 1 0 0 0 0 0 0 0 0]\n",
      "Prediction Probabilities aluVe for LogisticRegressionModel is :  [[3.15969878e-02 9.68403012e-01]\n",
      " [9.66299676e-04 9.99033700e-01]\n",
      " [9.97735912e-01 2.26408791e-03]\n",
      " [9.96857230e-01 3.14276971e-03]\n",
      " [9.99756465e-01 2.43535037e-04]\n",
      " [9.98931131e-01 1.06886941e-03]\n",
      " [9.98750638e-01 1.24936233e-03]\n",
      " [9.99176481e-01 8.23519316e-04]\n",
      " [9.83839211e-01 1.61607887e-02]\n",
      " [7.25599676e-01 2.74400324e-01]]\n"
     ]
    }
   ],
   "source": [
    "\n",
    "y_pred = LogisticRegressionModel.predict(X_test)\n",
    "y_pred_prob = LogisticRegressionModel.predict_proba(X_test)\n",
    "print('Predicted Value for LogisticRegressionModel is : ' , y_pred[:10])\n",
    "print('Prediction Probabilities aluVe for LogisticRegressionModel is : ' , y_pred_prob[:10])"
   ]
  },
  {
   "cell_type": "markdown",
   "id": "efe2a0ca",
   "metadata": {
    "papermill": {
     "duration": 0.037088,
     "end_time": "2022-11-26T18:09:19.260979",
     "exception": false,
     "start_time": "2022-11-26T18:09:19.223891",
     "status": "completed"
    },
    "tags": []
   },
   "source": [
    "# Applying RandomForestClassifier Model "
   ]
  },
  {
   "cell_type": "code",
   "execution_count": 19,
   "id": "532a997a",
   "metadata": {
    "execution": {
     "iopub.execute_input": "2022-11-26T18:09:19.313160Z",
     "iopub.status.busy": "2022-11-26T18:09:19.312768Z",
     "iopub.status.idle": "2022-11-26T18:09:19.619108Z",
     "shell.execute_reply": "2022-11-26T18:09:19.617833Z"
    },
    "papermill": {
     "duration": 0.324156,
     "end_time": "2022-11-26T18:09:19.621562",
     "exception": false,
     "start_time": "2022-11-26T18:09:19.297406",
     "status": "completed"
    },
    "tags": []
   },
   "outputs": [
    {
     "data": {
      "text/plain": [
       "RandomForestClassifier(max_depth=20, random_state=33)"
      ]
     },
     "execution_count": 19,
     "metadata": {},
     "output_type": "execute_result"
    }
   ],
   "source": [
    "\n",
    "RandomForestClassifierModel = RandomForestClassifier(criterion = 'gini',n_estimators=100,max_depth=20,random_state=33)\n",
    "RandomForestClassifierModel.fit(X_train, y_train)"
   ]
  },
  {
   "cell_type": "markdown",
   "id": "7371b182",
   "metadata": {
    "papermill": {
     "duration": 0.013334,
     "end_time": "2022-11-26T18:09:19.648773",
     "exception": false,
     "start_time": "2022-11-26T18:09:19.635439",
     "status": "completed"
    },
    "tags": []
   },
   "source": [
    "# Calculating Details"
   ]
  },
  {
   "cell_type": "code",
   "execution_count": 20,
   "id": "3aa5eaf9",
   "metadata": {
    "execution": {
     "iopub.execute_input": "2022-11-26T18:09:19.677843Z",
     "iopub.status.busy": "2022-11-26T18:09:19.677428Z",
     "iopub.status.idle": "2022-11-26T18:09:19.778505Z",
     "shell.execute_reply": "2022-11-26T18:09:19.777185Z"
    },
    "papermill": {
     "duration": 0.119688,
     "end_time": "2022-11-26T18:09:19.782046",
     "exception": false,
     "start_time": "2022-11-26T18:09:19.662358",
     "status": "completed"
    },
    "tags": []
   },
   "outputs": [
    {
     "name": "stdout",
     "output_type": "stream",
     "text": [
      "RandomForestClassifierModel Train Score is :  0.9985074626865672\n",
      "RandomForestClassifierModel Test Score is :  0.9715324046032707\n",
      "RandomForestClassifierModel features importances are :  [0.00264964 0.09194339 0.06083447 0.22959586 0.20446669 0.18473853\n",
      " 0.22577141]\n",
      "RandomForestClassifierModel Classes are :  [0 1]\n"
     ]
    }
   ],
   "source": [
    "\n",
    "print('RandomForestClassifierModel Train Score is : ' , RandomForestClassifierModel.score(X_train, y_train))\n",
    "print('RandomForestClassifierModel Test Score is : ' , RandomForestClassifierModel.score(X_test, y_test))\n",
    "print('RandomForestClassifierModel features importances are : ' , RandomForestClassifierModel.feature_importances_)\n",
    "print('RandomForestClassifierModel Classes are : ' , RandomForestClassifierModel.classes_)"
   ]
  },
  {
   "cell_type": "markdown",
   "id": "d0c59575",
   "metadata": {
    "papermill": {
     "duration": 0.013753,
     "end_time": "2022-11-26T18:09:19.810483",
     "exception": false,
     "start_time": "2022-11-26T18:09:19.796730",
     "status": "completed"
    },
    "tags": []
   },
   "source": [
    "# display RandomForestClassifierModel.feature_importances_"
   ]
  },
  {
   "cell_type": "code",
   "execution_count": 21,
   "id": "d2be816b",
   "metadata": {
    "execution": {
     "iopub.execute_input": "2022-11-26T18:09:19.840488Z",
     "iopub.status.busy": "2022-11-26T18:09:19.840044Z",
     "iopub.status.idle": "2022-11-26T18:09:20.076984Z",
     "shell.execute_reply": "2022-11-26T18:09:20.075018Z"
    },
    "papermill": {
     "duration": 0.254625,
     "end_time": "2022-11-26T18:09:20.079603",
     "exception": false,
     "start_time": "2022-11-26T18:09:19.824978",
     "status": "completed"
    },
    "tags": []
   },
   "outputs": [
    {
     "data": {
      "text/plain": [
       "<BarContainer object of 7 artists>"
      ]
     },
     "execution_count": 21,
     "metadata": {},
     "output_type": "execute_result"
    },
    {
     "data": {
      "image/png": "[encoded data removed]",
      "text/plain": [
       "<Figure size 432x288 with 1 Axes>"
      ]
     },
     "metadata": {
      "needs_background": "light"
     },
     "output_type": "display_data"
    }
   ],
   "source": [
    "\n",
    "plt.figure()\n",
    "plt.bar(X_bar,RandomForestClassifierModel.feature_importances_)"
   ]
  },
  {
   "cell_type": "markdown",
   "id": "65f22caf",
   "metadata": {
    "papermill": {
     "duration": 0.014116,
     "end_time": "2022-11-26T18:09:20.108363",
     "exception": false,
     "start_time": "2022-11-26T18:09:20.094247",
     "status": "completed"
    },
    "tags": []
   },
   "source": [
    "# Calculating Prediction"
   ]
  },
  {
   "cell_type": "code",
   "execution_count": 22,
   "id": "3691ee77",
   "metadata": {
    "execution": {
     "iopub.execute_input": "2022-11-26T18:09:20.139374Z",
     "iopub.status.busy": "2022-11-26T18:09:20.138964Z",
     "iopub.status.idle": "2022-11-26T18:09:20.210537Z",
     "shell.execute_reply": "2022-11-26T18:09:20.208785Z"
    },
    "papermill": {
     "duration": 0.090936,
     "end_time": "2022-11-26T18:09:20.213415",
     "exception": false,
     "start_time": "2022-11-26T18:09:20.122479",
     "status": "completed"
    },
    "tags": []
   },
   "outputs": [
    {
     "name": "stdout",
     "output_type": "stream",
     "text": [
      "Predicted Value for RandomForestClassifierModel is :  [1 1 0 0 0 0 0 0 0 1]\n",
      "Prediction Probabilities Value for RandomForestClassifierModel is :  [[0.01 0.99]\n",
      " [0.   1.  ]\n",
      " [1.   0.  ]\n",
      " [1.   0.  ]\n",
      " [1.   0.  ]\n",
      " [1.   0.  ]\n",
      " [1.   0.  ]\n",
      " [1.   0.  ]\n",
      " [0.99 0.01]\n",
      " [0.39 0.61]]\n"
     ]
    }
   ],
   "source": [
    "\n",
    "y_pred = RandomForestClassifierModel.predict(X_test)\n",
    "y_pred_prob = RandomForestClassifierModel.predict_proba(X_test)\n",
    "print('Predicted Value for RandomForestClassifierModel is : ' , y_pred[:10])\n",
    "print('Prediction Probabilities Value for RandomForestClassifierModel is : ' , y_pred_prob[:10])"
   ]
  },
  {
   "cell_type": "markdown",
   "id": "e3f4c2d9",
   "metadata": {
    "papermill": {
     "duration": 0.015116,
     "end_time": "2022-11-26T18:09:20.242925",
     "exception": false,
     "start_time": "2022-11-26T18:09:20.227809",
     "status": "completed"
    },
    "tags": []
   },
   "source": [
    "# Calculating Confusion Matrix"
   ]
  },
  {
   "cell_type": "code",
   "execution_count": 23,
   "id": "819a11fd",
   "metadata": {
    "execution": {
     "iopub.execute_input": "2022-11-26T18:09:20.273770Z",
     "iopub.status.busy": "2022-11-26T18:09:20.272701Z",
     "iopub.status.idle": "2022-11-26T18:09:20.281228Z",
     "shell.execute_reply": "2022-11-26T18:09:20.279226Z"
    },
    "papermill": {
     "duration": 0.026871,
     "end_time": "2022-11-26T18:09:20.284039",
     "exception": false,
     "start_time": "2022-11-26T18:09:20.257168",
     "status": "completed"
    },
    "tags": []
   },
   "outputs": [
    {
     "name": "stdout",
     "output_type": "stream",
     "text": [
      "Confusion Matrix is : \n",
      " [[832  18]\n",
      " [ 29 772]]\n"
     ]
    }
   ],
   "source": [
    "\n",
    "CM = confusion_matrix(y_test, y_pred)\n",
    "print('Confusion Matrix is : \\n', CM)"
   ]
  },
  {
   "cell_type": "markdown",
   "id": "5ed3c9f3",
   "metadata": {
    "papermill": {
     "duration": 0.014256,
     "end_time": "2022-11-26T18:09:20.313078",
     "exception": false,
     "start_time": "2022-11-26T18:09:20.298822",
     "status": "completed"
    },
    "tags": []
   },
   "source": [
    "#  drawing confusion matrix"
   ]
  },
  {
   "cell_type": "code",
   "execution_count": 24,
   "id": "e6d8f8e3",
   "metadata": {
    "execution": {
     "iopub.execute_input": "2022-11-26T18:09:20.345839Z",
     "iopub.status.busy": "2022-11-26T18:09:20.344720Z",
     "iopub.status.idle": "2022-11-26T18:09:20.600505Z",
     "shell.execute_reply": "2022-11-26T18:09:20.599633Z"
    },
    "papermill": {
     "duration": 0.274104,
     "end_time": "2022-11-26T18:09:20.602953",
     "exception": false,
     "start_time": "2022-11-26T18:09:20.328849",
     "status": "completed"
    },
    "tags": []
   },
   "outputs": [
    {
     "data": {
      "text/plain": [
       "<AxesSubplot:>"
      ]
     },
     "execution_count": 24,
     "metadata": {},
     "output_type": "execute_result"
    },
    {
     "data": {
      "image/png": "[encoded data removed]",
      "text/plain": [
       "<Figure size 432x288 with 2 Axes>"
      ]
     },
     "metadata": {
      "needs_background": "light"
     },
     "output_type": "display_data"
    }
   ],
   "source": [
    "\n",
    "plt.figure()\n",
    "sns.heatmap(CM, center = True)"
   ]
  },
  {
   "cell_type": "markdown",
   "id": "b74a5cd1",
   "metadata": {
    "papermill": {
     "duration": 0.014401,
     "end_time": "2022-11-26T18:09:20.632184",
     "exception": false,
     "start_time": "2022-11-26T18:09:20.617783",
     "status": "completed"
    },
    "tags": []
   },
   "source": [
    "# Calculating Confusion Matrix"
   ]
  },
  {
   "cell_type": "code",
   "execution_count": 25,
   "id": "9254dc13",
   "metadata": {
    "execution": {
     "iopub.execute_input": "2022-11-26T18:09:20.663322Z",
     "iopub.status.busy": "2022-11-26T18:09:20.662900Z",
     "iopub.status.idle": "2022-11-26T18:09:20.720063Z",
     "shell.execute_reply": "2022-11-26T18:09:20.718666Z"
    },
    "papermill": {
     "duration": 0.076028,
     "end_time": "2022-11-26T18:09:20.722801",
     "exception": false,
     "start_time": "2022-11-26T18:09:20.646773",
     "status": "completed"
    },
    "tags": []
   },
   "outputs": [
    {
     "name": "stdout",
     "output_type": "stream",
     "text": [
      "Confusion Matrix is : \n",
      " [[1650    1]\n",
      " [   4 1695]]\n"
     ]
    }
   ],
   "source": [
    "\n",
    "CM = confusion_matrix(y_train,RandomForestClassifierModel.predict(X_train))\n",
    "print('Confusion Matrix is : \\n', CM)\n"
   ]
  },
  {
   "cell_type": "markdown",
   "id": "5893b06f",
   "metadata": {
    "papermill": {
     "duration": 0.014195,
     "end_time": "2022-11-26T18:09:20.752075",
     "exception": false,
     "start_time": "2022-11-26T18:09:20.737880",
     "status": "completed"
    },
    "tags": []
   },
   "source": [
    "# drawing confusion matrix"
   ]
  },
  {
   "cell_type": "code",
   "execution_count": 26,
   "id": "d3787157",
   "metadata": {
    "execution": {
     "iopub.execute_input": "2022-11-26T18:09:20.782922Z",
     "iopub.status.busy": "2022-11-26T18:09:20.782476Z",
     "iopub.status.idle": "2022-11-26T18:09:21.043414Z",
     "shell.execute_reply": "2022-11-26T18:09:21.042589Z"
    },
    "papermill": {
     "duration": 0.279136,
     "end_time": "2022-11-26T18:09:21.045736",
     "exception": false,
     "start_time": "2022-11-26T18:09:20.766600",
     "status": "completed"
    },
    "tags": []
   },
   "outputs": [
    {
     "data": {
      "text/plain": [
       "<AxesSubplot:>"
      ]
     },
     "execution_count": 26,
     "metadata": {},
     "output_type": "execute_result"
    },
    {
     "data": {
      "image/png": "[encoded data removed]",
      "text/plain": [
       "<Figure size 432x288 with 2 Axes>"
      ]
     },
     "metadata": {
      "needs_background": "light"
     },
     "output_type": "display_data"
    }
   ],
   "source": [
    "\n",
    "plt.figure()\n",
    "sns.heatmap(CM, center = True)"
   ]
  },
  {
   "cell_type": "markdown",
   "id": "ca95ffa7",
   "metadata": {
    "papermill": {
     "duration": 0.015624,
     "end_time": "2022-11-26T18:09:21.076272",
     "exception": false,
     "start_time": "2022-11-26T18:09:21.060648",
     "status": "completed"
    },
    "tags": []
   },
   "source": [
    "# Calculating Accuracy Score  : ((TP + TN) / float(TP + TN + FP + FN))"
   ]
  },
  {
   "cell_type": "code",
   "execution_count": 27,
   "id": "4a638e12",
   "metadata": {
    "execution": {
     "iopub.execute_input": "2022-11-26T18:09:21.109644Z",
     "iopub.status.busy": "2022-11-26T18:09:21.108867Z",
     "iopub.status.idle": "2022-11-26T18:09:21.115956Z",
     "shell.execute_reply": "2022-11-26T18:09:21.114136Z"
    },
    "papermill": {
     "duration": 0.026919,
     "end_time": "2022-11-26T18:09:21.118670",
     "exception": false,
     "start_time": "2022-11-26T18:09:21.091751",
     "status": "completed"
    },
    "tags": []
   },
   "outputs": [
    {
     "name": "stdout",
     "output_type": "stream",
     "text": [
      "Accuracy Score is :  0.9715324046032707\n"
     ]
    }
   ],
   "source": [
    "\n",
    "AccScore = accuracy_score(y_test, y_pred, normalize=True)\n",
    "print('Accuracy Score is : ', AccScore)"
   ]
  },
  {
   "cell_type": "markdown",
   "id": "e0136a2c",
   "metadata": {
    "papermill": {
     "duration": 0.014866,
     "end_time": "2022-11-26T18:09:21.149087",
     "exception": false,
     "start_time": "2022-11-26T18:09:21.134221",
     "status": "completed"
    },
    "tags": []
   },
   "source": [
    "# Calculating F1 Score  : 2 * (precision * recall) / (precision + recall)"
   ]
  },
  {
   "cell_type": "code",
   "execution_count": 28,
   "id": "5511f165",
   "metadata": {
    "execution": {
     "iopub.execute_input": "2022-11-26T18:09:21.182836Z",
     "iopub.status.busy": "2022-11-26T18:09:21.181889Z",
     "iopub.status.idle": "2022-11-26T18:09:21.191373Z",
     "shell.execute_reply": "2022-11-26T18:09:21.189863Z"
    },
    "papermill": {
     "duration": 0.030572,
     "end_time": "2022-11-26T18:09:21.194588",
     "exception": false,
     "start_time": "2022-11-26T18:09:21.164016",
     "status": "completed"
    },
    "tags": []
   },
   "outputs": [
    {
     "name": "stdout",
     "output_type": "stream",
     "text": [
      "F1 Score is :  0.9715324046032707\n"
     ]
    }
   ],
   "source": [
    "\n",
    "F1Score = f1_score(y_test, y_pred, average='micro') \n",
    "print('F1 Score is : ', F1Score)"
   ]
  },
  {
   "cell_type": "markdown",
   "id": "398e8bd8",
   "metadata": {
    "papermill": {
     "duration": 0.014741,
     "end_time": "2022-11-26T18:09:21.226230",
     "exception": false,
     "start_time": "2022-11-26T18:09:21.211489",
     "status": "completed"
    },
    "tags": []
   },
   "source": [
    "# Calculating Precision Score : (Specificity) #(TP / float(TP + FP))  "
   ]
  },
  {
   "cell_type": "code",
   "execution_count": 29,
   "id": "c7f26227",
   "metadata": {
    "execution": {
     "iopub.execute_input": "2022-11-26T18:09:21.259397Z",
     "iopub.status.busy": "2022-11-26T18:09:21.258961Z",
     "iopub.status.idle": "2022-11-26T18:09:21.268835Z",
     "shell.execute_reply": "2022-11-26T18:09:21.267129Z"
    },
    "papermill": {
     "duration": 0.030926,
     "end_time": "2022-11-26T18:09:21.272276",
     "exception": false,
     "start_time": "2022-11-26T18:09:21.241350",
     "status": "completed"
    },
    "tags": []
   },
   "outputs": [
    {
     "name": "stdout",
     "output_type": "stream",
     "text": [
      "Precision Score is :  0.9715324046032707\n"
     ]
    }
   ],
   "source": [
    "\n",
    "PrecisionScore = precision_score(y_test, y_pred, average='micro')\n",
    "print('Precision Score is : ', PrecisionScore)"
   ]
  },
  {
   "cell_type": "markdown",
   "id": "79eea761",
   "metadata": {
    "papermill": {
     "duration": 0.015604,
     "end_time": "2022-11-26T18:09:21.303779",
     "exception": false,
     "start_time": "2022-11-26T18:09:21.288175",
     "status": "completed"
    },
    "tags": []
   },
   "source": [
    "# predict test_data is csv"
   ]
  },
  {
   "cell_type": "code",
   "execution_count": 30,
   "id": "e152f34f",
   "metadata": {
    "execution": {
     "iopub.execute_input": "2022-11-26T18:09:21.338138Z",
     "iopub.status.busy": "2022-11-26T18:09:21.337416Z",
     "iopub.status.idle": "2022-11-26T18:09:21.352032Z",
     "shell.execute_reply": "2022-11-26T18:09:21.350499Z"
    },
    "papermill": {
     "duration": 0.035186,
     "end_time": "2022-11-26T18:09:21.354891",
     "exception": false,
     "start_time": "2022-11-26T18:09:21.319705",
     "status": "completed"
    },
    "tags": []
   },
   "outputs": [],
   "source": [
    "\n",
    "y_pred2=[]\n",
    "for i in range(len(y_pred)):\n",
    "    if y_pred[i]==1:\n",
    "        y_pred2.append('Male')\n",
    "    else:\n",
    "        y_pred2.append('Female')\n",
    "y_pred2=np.array(y_pred2)        \n",
    "submision=pd.DataFrame(y_pred2,columns=['y_pred'],)\n",
    "submision.to_csv('/kaggle/working/y_pred.csv')"
   ]
  },
  {
   "cell_type": "markdown",
   "id": "18638c66",
   "metadata": {
    "papermill": {
     "duration": 0.015802,
     "end_time": "2022-11-26T18:09:21.386680",
     "exception": false,
     "start_time": "2022-11-26T18:09:21.370878",
     "status": "completed"
    },
    "tags": []
   },
   "source": [
    "# display y_train ,y_test_train"
   ]
  },
  {
   "cell_type": "code",
   "execution_count": 31,
   "id": "75407b10",
   "metadata": {
    "execution": {
     "iopub.execute_input": "2022-11-26T18:09:21.420777Z",
     "iopub.status.busy": "2022-11-26T18:09:21.419965Z",
     "iopub.status.idle": "2022-11-26T18:09:21.703577Z",
     "shell.execute_reply": "2022-11-26T18:09:21.702427Z"
    },
    "papermill": {
     "duration": 0.302827,
     "end_time": "2022-11-26T18:09:21.706280",
     "exception": false,
     "start_time": "2022-11-26T18:09:21.403453",
     "status": "completed"
    },
    "tags": []
   },
   "outputs": [
    {
     "data": {
      "text/plain": [
       "<matplotlib.legend.Legend at 0x7f7019151b50>"
      ]
     },
     "execution_count": 31,
     "metadata": {},
     "output_type": "execute_result"
    },
    {
     "data": {
      "image/png": "[encoded data removed]",
      "text/plain": [
       "<Figure size 432x288 with 1 Axes>"
      ]
     },
     "metadata": {
      "needs_background": "light"
     },
     "output_type": "display_data"
    }
   ],
   "source": [
    "\n",
    "plt.figure()\n",
    "plt.plot(y_train[:100],label='y_train')\n",
    "plt.plot(RandomForestClassifierModel.predict(X_train[:100]),label='y_train_pred')\n",
    "plt.title('y_pred and y_actual')\n",
    "plt.legend()"
   ]
  },
  {
   "cell_type": "markdown",
   "id": "e29ab2cf",
   "metadata": {
    "papermill": {
     "duration": 0.016353,
     "end_time": "2022-11-26T18:09:21.739206",
     "exception": false,
     "start_time": "2022-11-26T18:09:21.722853",
     "status": "completed"
    },
    "tags": []
   },
   "source": [
    "# display y_test ,y_test_pred"
   ]
  },
  {
   "cell_type": "code",
   "execution_count": 32,
   "id": "9a983dd0",
   "metadata": {
    "execution": {
     "iopub.execute_input": "2022-11-26T18:09:21.773284Z",
     "iopub.status.busy": "2022-11-26T18:09:21.772852Z",
     "iopub.status.idle": "2022-11-26T18:09:22.058889Z",
     "shell.execute_reply": "2022-11-26T18:09:22.057637Z"
    },
    "papermill": {
     "duration": 0.30658,
     "end_time": "2022-11-26T18:09:22.061793",
     "exception": false,
     "start_time": "2022-11-26T18:09:21.755213",
     "status": "completed"
    },
    "tags": []
   },
   "outputs": [
    {
     "data": {
      "text/plain": [
       "<matplotlib.legend.Legend at 0x7f70190d3ad0>"
      ]
     },
     "execution_count": 32,
     "metadata": {},
     "output_type": "execute_result"
    },
    {
     "data": {
      "image/png": "[encoded data removed]",
      "text/plain": [
       "<Figure size 432x288 with 1 Axes>"
      ]
     },
     "metadata": {
      "needs_background": "light"
     },
     "output_type": "display_data"
    }
   ],
   "source": [
    "\n",
    "plt.figure()\n",
    "plt.plot(y_test[:100],label='y_test')\n",
    "plt.plot(RandomForestClassifierModel.predict(X_test[:100]),label='y_test_pred')\n",
    "plt.title('y_pred and y_actual')\n",
    "plt.legend()"
   ]
  }
 ],
 "metadata": {
  "kernelspec": {
   "display_name": "Python 3",
   "language": "python",
   "name": "python3"
  },
  "language_info": {
   "codemirror_mode": {
    "name": "ipython",
    "version": 3
   },
   "file_extension": ".py",
   "mimetype": "text/x-python",
   "name": "python",
   "nbconvert_exporter": "python",
   "pygments_lexer": "ipython3",
   "version": "3.7.12"
  },
  "papermill": {
   "default_parameters": {},
   "duration": 15.755209,
   "end_time": "2022-11-26T18:09:22.902263",
   "environment_variables": {},
   "exception": null,
   "input_path": "__notebook__.ipynb",
   "output_path": "__notebook__.ipynb",
   "parameters": {},
   "start_time": "2022-11-26T18:09:07.147054",
   "version": "2.3.4"
  }
 },
 "nbformat": 4,
 "nbformat_minor": 5
}
